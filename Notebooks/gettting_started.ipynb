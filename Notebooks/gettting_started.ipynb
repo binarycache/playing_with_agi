{
 "cells": [
  {
   "attachments": {},
   "cell_type": "markdown",
   "metadata": {},
   "source": [
    "#### Importing all the necessary packages"
   ]
  },
  {
   "cell_type": "code",
   "execution_count": 1,
   "metadata": {},
   "outputs": [],
   "source": [
    "import os\n",
    "from langchain.llms import OpenAI\n",
    "from langchain.prompts import PromptTemplate\n",
    "from langchain.chains import LLMChain\n",
    "from langchain.agents import load_tools\n",
    "from langchain.agents import initialize_agent\n",
    "from langchain.utilities import GoogleSearchAPIWrapper\n",
    "from langchain import OpenAI, ConversationChain\n",
    "from dotenv import load_dotenv"
   ]
  },
  {
   "attachments": {},
   "cell_type": "markdown",
   "metadata": {},
   "source": [
    "#### Reading API Keys\n",
    "- Keys are stored in .env file which is not public.\n",
    "- Steps to create a .env file:\n",
    "  - Create a separate file to store your environment variables. This file should have a name that starts with a dot (.), for example, \".env_file\".\n",
    "  - Open the .env_file in a text editor and add your environment variables in the following format\n",
    "    - VARIABLE_NAME=variable_value\n",
    "  - In your Python program, install the python-dotenv package\n",
    "    - Note this will already be installed if you use poetry and .toml to install the dependencies.\n",
    "- Reference to setup Google Search API Key and CSE ID:\n",
    "  - https://python.langchain.com/en/latest/modules/agents/tools/examples/google_search.html\n"
   ]
  },
  {
   "cell_type": "code",
   "execution_count": 2,
   "metadata": {},
   "outputs": [
    {
     "data": {
      "text/plain": [
       "True"
      ]
     },
     "execution_count": 2,
     "metadata": {},
     "output_type": "execute_result"
    }
   ],
   "source": [
    "# Load the dot environment from the created file\n",
    "load_dotenv(dotenv_path='../.env')"
   ]
  },
  {
   "cell_type": "code",
   "execution_count": 3,
   "metadata": {},
   "outputs": [],
   "source": [
    "open_api_key = os.environ.get(\"OPENAI_API_KEY\")\n",
    "google_api_key = os.environ.get(\"GOOGLE_API_KEY\")\n",
    "google_cse_id = os.environ.get(\"GOOGLE_CSE_ID\")"
   ]
  },
  {
   "cell_type": "code",
   "execution_count": 4,
   "metadata": {},
   "outputs": [],
   "source": [
    "llm  = OpenAI(temperature = 0.9, openai_api_key=open_api_key) # Amount of randomness, higher is more random"
   ]
  },
  {
   "cell_type": "code",
   "execution_count": 5,
   "metadata": {},
   "outputs": [
    {
     "name": "stdout",
     "output_type": "stream",
     "text": [
      "\n",
      "\n",
      "1. Rome, Italy \n",
      "2. Tuscany, Italy \n",
      "3. Naples, Italy \n",
      "4. Bologna, Italy \n",
      "5. Milan, Italy\n"
     ]
    }
   ],
   "source": [
    "text = \"What are 5 vacation destination for someone who likes to eat pasta?\"\n",
    "print(llm(text))"
   ]
  },
  {
   "attachments": {},
   "cell_type": "markdown",
   "metadata": {},
   "source": [
    "### Prompt Templates: Manage prompts for LLMs"
   ]
  },
  {
   "cell_type": "code",
   "execution_count": 6,
   "metadata": {},
   "outputs": [],
   "source": [
    "prompt = PromptTemplate(\n",
    "    input_variables=[\"food\"],\n",
    "    template = \"What are 5 vacation destination for someone who likes to eat {food}?\",\n",
    ")"
   ]
  },
  {
   "cell_type": "code",
   "execution_count": 7,
   "metadata": {},
   "outputs": [
    {
     "name": "stdout",
     "output_type": "stream",
     "text": [
      "What are 5 vacation destination for someone who likes to eat dessert?\n"
     ]
    }
   ],
   "source": [
    "print(prompt.format(food=\"dessert\"))"
   ]
  },
  {
   "cell_type": "code",
   "execution_count": 8,
   "metadata": {},
   "outputs": [
    {
     "name": "stdout",
     "output_type": "stream",
     "text": [
      " \n",
      "\n",
      "1. New York City, USA: With a wide variety of delicious desserts, from cronuts to ice cream sandwiches, the city's vast selection of bakeries and restaurants offer something for every sweet tooth. \n",
      "\n",
      "2. Tokyo, Japan: From soft, creamy cheesecakes to traditional wagashi mochi, the Japanese capital has a plethora of delicious desserts to offer. \n",
      "\n",
      "3. Buenos Aires, Argentina: Home to the famous alfajores cookie sandwich, Buenos Aires offers a host of indulgent desserts, such as churros, dulce de leche and more. \n",
      "\n",
      "4. Paris, France: Whether you’re looking for a rich and decadent chocolate cake or the traditional French confection known as the Paris-Brest, the City of Lights offers an abundance of treats for dessert lovers. \n",
      "\n",
      "5. Hong Kong: From mango sago to egg tarts, the Chinese city boasts a unique combination of traditional Cantonese and modern desserts.\n"
     ]
    }
   ],
   "source": [
    "print(llm(prompt.format(food=\"dessert\")))"
   ]
  },
  {
   "attachments": {},
   "cell_type": "markdown",
   "metadata": {},
   "source": [
    "### Chains: Combine LLMs and prompts in multi-step workflows"
   ]
  },
  {
   "cell_type": "code",
   "execution_count": 9,
   "metadata": {},
   "outputs": [],
   "source": [
    "prompt = PromptTemplate(\n",
    "    input_variables=[\"food\"],\n",
    "    template = \"What are 5 vacation destination for someone who likes to eat {food}?\",\n",
    ")"
   ]
  },
  {
   "cell_type": "code",
   "execution_count": 10,
   "metadata": {},
   "outputs": [],
   "source": [
    "chain = LLMChain(llm=llm, prompt=prompt)"
   ]
  },
  {
   "cell_type": "code",
   "execution_count": 11,
   "metadata": {},
   "outputs": [
    {
     "name": "stdout",
     "output_type": "stream",
     "text": [
      "\n",
      "\n",
      "1. Hawaii: an abundance of tropical fruits like mangoes, pineapples, and papayas can be found at local markets. \n",
      "\n",
      "2. South Africa: sample the unique flavors of indigenous fruits like wild figs, mongongo nuts, and baobab fruits. \n",
      "\n",
      "3. Sri Lanka: try exotic fruits like jackfruit, rambutan, and mangosteen during your visit. \n",
      "\n",
      "4. Germany: enjoy fresh apples, pears, and cherries straight from the orchards. \n",
      "\n",
      "5. Dominican Republic: indulge in succulent mangoes, guavas, and passion fruit during your trip.\n"
     ]
    }
   ],
   "source": [
    "print(chain.run(\"fruit\"))"
   ]
  },
  {
   "attachments": {},
   "cell_type": "markdown",
   "metadata": {},
   "source": [
    "# Agents: Dynamically call chains based on user input"
   ]
  },
  {
   "cell_type": "code",
   "execution_count": 12,
   "metadata": {},
   "outputs": [],
   "source": [
    "search = GoogleSearchAPIWrapper()"
   ]
  },
  {
   "cell_type": "code",
   "execution_count": 13,
   "metadata": {},
   "outputs": [
    {
     "data": {
      "text/plain": [
       "\"STATE OF HAWAII. 1 Child's First Name. (Type or print). BARACK. CERTIFICATE OF LIVE BIRTH lb. Middle Name. HUSSE. HUSSEIN. FILE. NUMBER 151. Barack Hussein Obama II is an American former politician who served as the 44th president of the United States from 2009 to 2017. A member of the Democratic\\xa0... His full name is Barack Hussein Obama II. Since the “II” is simply because he was named for his father, his last name is Obama. Jan 19, 2017 ... Jordan Barack Treasure, New York City, born in 2008 ... Jordan Barack Treasure made national news when he was the focus of a New York newspaper\\xa0... 4 days ago ... Barack Obama, in full Barack Hussein Obama II, (born August 4, 1961, Honolulu, Hawaii, U.S.), 44th president of the United States (2009–17) and\\xa0... Mar 22, 2008 ... Barry Obama decided that he didn't like his nickname. A few of his friends at Occidental College had already begun to call him Barack (his\\xa0... When Barack Obama was elected president in 2008, he became the first African American to hold ... The Middle East remained a key foreign policy challenge. Aug 18, 2017 ... It took him several seconds and multiple clues to remember former President Barack Obama's first name. Miller knew that every answer had to\\xa0... First Lady Michelle LaVaughn Robinson Obama is a lawyer, writer, and the wife of the 44th President, Barack Obama. She is the first African-American First\\xa0... Barack H. Obama Cabinet Nominations ; Secretary of Defense ; Robert Gates · Dec 1, 2008 ; Leon Panetta, Apr 28, 2011, June 9, 2011 ; Chuck Hagel, Jan 7, 2013, Jan 31\\xa0...\""
      ]
     },
     "execution_count": 13,
     "metadata": {},
     "output_type": "execute_result"
    }
   ],
   "source": [
    "search.run(\"Obama's first name?\")"
   ]
  },
  {
   "cell_type": "code",
   "execution_count": 14,
   "metadata": {},
   "outputs": [],
   "source": [
    "tools = load_tools(['google-search','llm-math'], llm=llm)"
   ]
  },
  {
   "cell_type": "code",
   "execution_count": 15,
   "metadata": {},
   "outputs": [],
   "source": [
    "agent = initialize_agent(tools=tools, llm=llm, agent='zero-shot-react-description', verbose=True)"
   ]
  },
  {
   "cell_type": "code",
   "execution_count": 17,
   "metadata": {},
   "outputs": [
    {
     "name": "stdout",
     "output_type": "stream",
     "text": [
      "\n",
      "\n",
      "\u001b[1m> Entering new AgentExecutor chain...\u001b[0m\n",
      "\u001b[32;1m\u001b[1;3m I should look for the leader's age to answer the second part of the question.\n",
      "Action: Google Search\n",
      "Action Input: Current leader of India\u001b[0m\n",
      "Observation: \u001b[36;1m\u001b[1;3mThe President of India, Smt Droupadi Murmu presented National Panchayat Awards and inaugurating National Conference on Incentivization of Panchayats in New ... Droupadi Murmu is the 15th and current president, having taken office from 25 July 2022. President of India. Bhārat kē Rāṣṭrapati. Emblem of India.svg · Emblem ... Additionally, the directory provides contact information for Indian Affairs leadership.p. There are currently 574 Federally Recognized Tribes as of 01/28/2022. Jul 25, 2022 ... Droupadi Murmu, a tribal politician, was sworn in as India's new president on Monday. The 64-year-old former teacher comes from Odisha (Orissa) ... To do this, we depend on great leadership. And that takes great leadership development for our members. ... Third Vice President. Kolkata, India. Apr 4, 2019 ... In recent years, religiously inspired nationalist movements have gained ... The leadership of the Indian National Congress (or Congress ... 5 days ago ... Current Approval Ratings ; Narendra Modi (India). NET +57. 76% · 20% ; Alain Berset (Switzerland). NET +30. 58% · 28% ; Andrés Manuel López Obrador ( ... national emblem. Vice President Of India Shri Jagdeep Dhankhar · Current Events · Messages from VPI · Speeches. Leadership Secretary Deputy Secretary Chief of Staff Deputy Chiefs of Staff ... Ginnie Mae; Policy Development and Research; Public and Indian Housing ... The long-awaited agreement ended 200 years of British rule and was hailed by Indian independence leader Mohandas Gandhi as the 'noblest act of the British ...\u001b[0m\n",
      "Thought:\u001b[32;1m\u001b[1;3m I need to calculate the largest prime number that is smaller than the leader's age.\n",
      "Action: Calculator\n",
      "Action Input: 64\u001b[0m\n",
      "Observation: \u001b[33;1m\u001b[1;3mAnswer: 64\n",
      "\u001b[0m\n",
      "Thought:\u001b[32;1m\u001b[1;3m I now know the final answer.\n",
      "Final Answer: The current leader of India is Droupadi Murmu, and the largest prime number that is smaller than her age is 61.\u001b[0m\n",
      "\n",
      "\u001b[1m> Finished chain.\u001b[0m\n"
     ]
    },
    {
     "data": {
      "text/plain": [
       "'The current leader of India is Droupadi Murmu, and the largest prime number that is smaller than her age is 61.'"
      ]
     },
     "execution_count": 17,
     "metadata": {},
     "output_type": "execute_result"
    }
   ],
   "source": [
    "agent.run(\"Who is the current leader of India? What is the largest prime number that is smaller than their age?\")"
   ]
  },
  {
   "attachments": {},
   "cell_type": "markdown",
   "metadata": {},
   "source": [
    "## Adding Memory and state to chains and agents"
   ]
  },
  {
   "cell_type": "code",
   "execution_count": 18,
   "metadata": {},
   "outputs": [],
   "source": [
    "conversation = ConversationChain(llm=llm, verbose=True)"
   ]
  },
  {
   "cell_type": "code",
   "execution_count": 19,
   "metadata": {},
   "outputs": [
    {
     "name": "stdout",
     "output_type": "stream",
     "text": [
      "\n",
      "\n",
      "\u001b[1m> Entering new ConversationChain chain...\u001b[0m\n",
      "Prompt after formatting:\n",
      "\u001b[32;1m\u001b[1;3mThe following is a friendly conversation between a human and an AI. The AI is talkative and provides lots of specific details from its context. If the AI does not know the answer to a question, it truthfully says it does not know.\n",
      "\n",
      "Current conversation:\n",
      "\n",
      "Human: Hi There!\n",
      "AI:\u001b[0m\n",
      "\n",
      "\u001b[1m> Finished chain.\u001b[0m\n"
     ]
    },
    {
     "data": {
      "text/plain": [
       "' Hi there! How can I help you?'"
      ]
     },
     "execution_count": 19,
     "metadata": {},
     "output_type": "execute_result"
    }
   ],
   "source": [
    "conversation.predict(input=\"Hi There!\")"
   ]
  },
  {
   "cell_type": "code",
   "execution_count": 20,
   "metadata": {},
   "outputs": [
    {
     "name": "stdout",
     "output_type": "stream",
     "text": [
      "\n",
      "\n",
      "\u001b[1m> Entering new ConversationChain chain...\u001b[0m\n",
      "Prompt after formatting:\n",
      "\u001b[32;1m\u001b[1;3mThe following is a friendly conversation between a human and an AI. The AI is talkative and provides lots of specific details from its context. If the AI does not know the answer to a question, it truthfully says it does not know.\n",
      "\n",
      "Current conversation:\n",
      "Human: Hi There!\n",
      "AI:  Hi there! How can I help you?\n",
      "Human: Just having a conversation with an AI-agent\n",
      "AI:\u001b[0m\n",
      "\n",
      "\u001b[1m> Finished chain.\u001b[0m\n"
     ]
    },
    {
     "data": {
      "text/plain": [
       "\" Nice to meet you! It's always fun to talk to new people. My name is AI-Agent, what's yours?\""
      ]
     },
     "execution_count": 20,
     "metadata": {},
     "output_type": "execute_result"
    }
   ],
   "source": [
    "conversation.predict(input=\"Just having a conversation with an AI-agent\")"
   ]
  },
  {
   "cell_type": "code",
   "execution_count": 21,
   "metadata": {},
   "outputs": [
    {
     "name": "stdout",
     "output_type": "stream",
     "text": [
      "\n",
      "\n",
      "\u001b[1m> Entering new ConversationChain chain...\u001b[0m\n",
      "Prompt after formatting:\n",
      "\u001b[32;1m\u001b[1;3mThe following is a friendly conversation between a human and an AI. The AI is talkative and provides lots of specific details from its context. If the AI does not know the answer to a question, it truthfully says it does not know.\n",
      "\n",
      "Current conversation:\n",
      "Human: Hi There!\n",
      "AI:  Hi there! How can I help you?\n",
      "Human: Just having a conversation with an AI-agent\n",
      "AI:  Nice to meet you! It's always fun to talk to new people. My name is AI-Agent, what's yours?\n",
      "Human: What was the first thing I said to you?\n",
      "AI:\u001b[0m\n",
      "\n",
      "\u001b[1m> Finished chain.\u001b[0m\n"
     ]
    },
    {
     "data": {
      "text/plain": [
       "' You said, \"Hi there!\"'"
      ]
     },
     "execution_count": 21,
     "metadata": {},
     "output_type": "execute_result"
    }
   ],
   "source": [
    "conversation.predict(input=\"What was the first thing I said to you?\")"
   ]
  },
  {
   "cell_type": "code",
   "execution_count": null,
   "metadata": {},
   "outputs": [],
   "source": []
  }
 ],
 "metadata": {
  "kernelspec": {
   "display_name": "agi-S_qFcdSl-py3.10",
   "language": "python",
   "name": "python3"
  },
  "language_info": {
   "codemirror_mode": {
    "name": "ipython",
    "version": 3
   },
   "file_extension": ".py",
   "mimetype": "text/x-python",
   "name": "python",
   "nbconvert_exporter": "python",
   "pygments_lexer": "ipython3",
   "version": "3.10.4"
  },
  "orig_nbformat": 4,
  "vscode": {
   "interpreter": {
    "hash": "b2d80d4b39bb97eabf29f5c28a586e876b5c880ea7b53a7d4fdd70f7b9476147"
   }
  }
 },
 "nbformat": 4,
 "nbformat_minor": 2
}
